{
 "cells": [
  {
   "cell_type": "code",
   "execution_count": 6,
   "id": "239e1043-fa88-46dc-af0a-1e8649185771",
   "metadata": {},
   "outputs": [
    {
     "name": "stdout",
     "output_type": "stream",
     "text": [
      "series from array\n",
      "0    s\n",
      "1    a\n",
      "2    i\n",
      "3    r\n",
      "4    b\n",
      "5    l\n",
      "6    i\n",
      "dtype: object\n"
     ]
    }
   ],
   "source": [
    "import numpy as np\n",
    "import pandas as pd\n",
    "arr=np.array(['s','a','i','r','b','l','i'])\n",
    "a=pd.Series(arr)\n",
    "print(\"series from array\")\n",
    "print(a)"
   ]
  },
  {
   "cell_type": "code",
   "execution_count": 8,
   "id": "f3cd4cf3-a77b-47b5-9cf9-0c0792dc243d",
   "metadata": {},
   "outputs": [
    {
     "name": "stdout",
     "output_type": "stream",
     "text": [
      "\n",
      " Series from dictionary \n",
      "\n",
      "a    0\n",
      "b    1\n",
      "c    2\n",
      "dtype: int64\n"
     ]
    }
   ],
   "source": [
    "arr={'a':0,'b':1,'c':2}\n",
    "b=pd.Series(arr)\n",
    "print((\"\\n Series from dictionary \\n\"))\n",
    "print(b)"
   ]
  },
  {
   "cell_type": "code",
   "execution_count": 10,
   "id": "539e7e94-7fce-43c7-9c55-7a9a38d6fab2",
   "metadata": {},
   "outputs": [
    {
     "name": "stdout",
     "output_type": "stream",
     "text": [
      "\n",
      " Series using scalar \n",
      "\n",
      "0    4\n",
      "1    4\n",
      "2    4\n",
      "3    4\n",
      "dtype: int64\n"
     ]
    }
   ],
   "source": [
    "a=pd.Series(4,index=[0,1,2,3])\n",
    "print(\"\\n Series using scalar \\n\")\n",
    "print(a)"
   ]
  },
  {
   "cell_type": "code",
   "execution_count": 12,
   "id": "0cae08e4-5bf1-4878-923c-1004f67b83ab",
   "metadata": {},
   "outputs": [
    {
     "name": "stdout",
     "output_type": "stream",
     "text": [
      "\n",
      " a.series:\n",
      " 0    4\n",
      "1    4\n",
      "2    4\n",
      "3    4\n",
      "dtype: int64\n",
      "\n",
      " index:\n",
      " Index([0, 1, 2, 3], dtype='int64')\n",
      "\n",
      " values:\n",
      " [4 4 4 4]\n",
      "\n",
      " shape:\n",
      " (4,)\n",
      "\n",
      " dimension:\n",
      " 1\n",
      "\n",
      " size:\n",
      " 4\n"
     ]
    }
   ],
   "source": [
    "print(\"\\n a.series:\\n\",a)\n",
    "print(\"\\n index:\\n\",a.index)\n",
    "print(\"\\n values:\\n\",a.values)\n",
    "print(\"\\n shape:\\n\",a.shape)\n",
    "print(\"\\n dimension:\\n\",a.ndim)\n",
    "print(\"\\n size:\\n\",a.size)"
   ]
  },
  {
   "cell_type": "code",
   "execution_count": null,
   "id": "81885518-e8fb-4cd9-9f7b-0fb4840f7372",
   "metadata": {},
   "outputs": [],
   "source": []
  },
  {
   "cell_type": "code",
   "execution_count": null,
   "id": "f7165569-5c5f-4070-abe8-842d5ec7ff5b",
   "metadata": {},
   "outputs": [],
   "source": []
  }
 ],
 "metadata": {
  "kernelspec": {
   "display_name": "Python [conda env:base] *",
   "language": "python",
   "name": "conda-base-py"
  },
  "language_info": {
   "codemirror_mode": {
    "name": "ipython",
    "version": 3
   },
   "file_extension": ".py",
   "mimetype": "text/x-python",
   "name": "python",
   "nbconvert_exporter": "python",
   "pygments_lexer": "ipython3",
   "version": "3.12.7"
  }
 },
 "nbformat": 4,
 "nbformat_minor": 5
}
