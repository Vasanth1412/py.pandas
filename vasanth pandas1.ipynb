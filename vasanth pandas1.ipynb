{
 "cells": [
  {
   "cell_type": "code",
   "execution_count": 1,
   "id": "25d0db33",
   "metadata": {},
   "outputs": [
    {
     "name": "stdout",
     "output_type": "stream",
     "text": [
      "Empty DataFrame\n",
      "Columns: []\n",
      "Index: []\n"
     ]
    }
   ],
   "source": [
    "import pandas as pd \n",
    "df=pd.DataFrame()\n",
    "print(df)\n"
   ]
  },
  {
   "cell_type": "code",
   "execution_count": null,
   "id": "c43911ee",
   "metadata": {},
   "outputs": [],
   "source": []
  },
  {
   "cell_type": "code",
   "execution_count": 7,
   "id": "647fa275",
   "metadata": {},
   "outputs": [
    {
     "name": "stdout",
     "output_type": "stream",
     "text": [
      "\n",
      " series in data frames \n",
      "\n",
      "         Emp  Id\n",
      "0   dharshan  80\n",
      "1       siva  90\n",
      "2     sudeep  28\n",
      "3       yash  57\n",
      "4  keerthana  49\n"
     ]
    }
   ],
   "source": [
    "import pandas as pd\n",
    "emp=pd.Series(['dharshan','siva','sudeep','yash','keerthana'])\n",
    "id=pd.Series([80,90,28,57,49])\n",
    "frame={'Emp':emp,'Id':id}\n",
    "result=pd.DataFrame(frame)\n",
    "print(\"\\n series in data frames \\n\")\n",
    "print(result)"
   ]
  },
  {
   "cell_type": "code",
   "execution_count": 8,
   "id": "cac0df74",
   "metadata": {
    "scrolled": true
   },
   "outputs": [
    {
     "name": "stdout",
     "output_type": "stream",
     "text": [
      "\n",
      "Extracting one column\n",
      "\n",
      "0     dharshan\n",
      "1         siva\n",
      "2       sudeep\n",
      "3         yash\n",
      "4    keerthana\n",
      "Name: Emp, dtype: object\n"
     ]
    }
   ],
   "source": [
    "print(\"\\nExtracting one column\\n\")\n",
    "print(result['Emp'])"
   ]
  },
  {
   "cell_type": "code",
   "execution_count": 9,
   "id": "793b28a9",
   "metadata": {},
   "outputs": [
    {
     "name": "stdout",
     "output_type": "stream",
     "text": [
      "/n adding new column:\n",
      "\n",
      "         Emp  Id  ID  Age\n",
      "0   dharshan  80  80   19\n",
      "1       siva  90  90   90\n",
      "2     sudeep  28  28   34\n",
      "3       yash  57  56   67\n",
      "4  keerthana  49  89   20\n"
     ]
    }
   ],
   "source": [
    "print(\"/n adding new column:\\n\")\n",
    "result['ID']=pd.Series([80,90,28,56,89])\n",
    "result['Age']=pd.Series([19,90,34,67,20])\n",
    "print(result)"
   ]
  },
  {
   "cell_type": "code",
   "execution_count": 11,
   "id": "6cd9a8bd",
   "metadata": {},
   "outputs": [
    {
     "name": "stdout",
     "output_type": "stream",
     "text": [
      "\n",
      " Deleting new column:\n",
      "\n",
      "         Emp  Id  ID\n",
      "0   dharshan  80  80\n",
      "1       siva  90  90\n",
      "2     sudeep  28  28\n",
      "3       yash  57  56\n",
      "4  keerthana  49  89\n"
     ]
    }
   ],
   "source": [
    "print(\"\\n Deleting new column:\\n\")\n",
    "del result['Age']\n",
    "print(result)"
   ]
  },
  {
   "cell_type": "code",
   "execution_count": 12,
   "id": "759820cb",
   "metadata": {},
   "outputs": [
    {
     "name": "stdout",
     "output_type": "stream",
     "text": [
      "\n",
      " extracting the second row:\n",
      "\n",
      "Emp    siva\n",
      "Id       90\n",
      "ID       90\n",
      "Name: 1, dtype: object\n"
     ]
    }
   ],
   "source": [
    "print(\"\\n extracting the second row:\\n\")\n",
    "print(result.loc[1])"
   ]
  },
  {
   "cell_type": "code",
   "execution_count": 13,
   "id": "98b68f09",
   "metadata": {},
   "outputs": [
    {
     "name": "stdout",
     "output_type": "stream",
     "text": [
      "slice rows:\n",
      "       Emp  Id  ID\n",
      "1    siva  90  90\n",
      "2  sudeep  28  28\n",
      "3    yash  57  56\n"
     ]
    }
   ],
   "source": [
    "print(\"slice rows:\\n\",result[1:4])\n"
   ]
  },
  {
   "cell_type": "code",
   "execution_count": 14,
   "id": "58f6a008",
   "metadata": {},
   "outputs": [
    {
     "name": "stdout",
     "output_type": "stream",
     "text": [
      "\n",
      " Adding new row values\n",
      "          Emp    Id   ID    Emps\n",
      "0   dharshan  80.0   80     NaN\n",
      "1       siva  90.0   90     NaN\n",
      "2     sudeep  28.0   28     NaN\n",
      "3       yash  57.0   56     NaN\n",
      "4  keerthana  49.0   89     NaN\n",
      "0        NaN   NaN  100   vicky\n",
      "1        NaN   NaN  111  rashid\n"
     ]
    }
   ],
   "source": [
    "d2=pd.DataFrame([['vicky',100],['rashid',111]],columns=['Emps','ID'])\n",
    "print(\"\\n Adding new row values\\n\",pd.concat([result,d2]))\n"
   ]
  },
  {
   "cell_type": "code",
   "execution_count": 15,
   "id": "b152dd7a",
   "metadata": {},
   "outputs": [
    {
     "name": "stdout",
     "output_type": "stream",
     "text": [
      "\n",
      "deleting particular row:\n",
      "          Emp  Id  ID\n",
      "0   dharshan  80  80\n",
      "1       siva  90  90\n",
      "3       yash  57  56\n",
      "4  keerthana  49  89\n"
     ]
    }
   ],
   "source": [
    "print(\"\\ndeleting particular row:\\n\",result.drop(2))"
   ]
  },
  {
   "cell_type": "code",
   "execution_count": 16,
   "id": "18001e27",
   "metadata": {},
   "outputs": [
    {
     "name": "stdout",
     "output_type": "stream",
     "text": [
      "DataFrame.apply function:\n",
      "\n",
      "\n",
      " original DataFrame:\n",
      "    S  R\n",
      "0  3  9\n",
      "1  3  9\n",
      "2  3  9\n",
      "3  3  9\n",
      "\n",
      " squareroot of DataFrame:\n",
      "           S    R\n",
      "0  1.732051  3.0\n",
      "1  1.732051  3.0\n",
      "2  1.732051  3.0\n",
      "3  1.732051  3.0\n",
      "\n",
      " sum of each column:\n",
      " S    12\n",
      "R    36\n",
      "dtype: int64\n",
      "\n",
      " sum of each row:\n",
      " 0    12\n",
      "1    12\n",
      "2    12\n",
      "3    12\n",
      "dtype: int64\n"
     ]
    }
   ],
   "source": [
    "import pandas as pd \n",
    "import numpy as np\n",
    "print(\"DataFrame.apply function:\\n\")\n",
    "info=pd.DataFrame([[3,9]]*4,columns=['S','R'])\n",
    "print(\"\\n original DataFrame:\\n\",info)\n",
    "print(\"\\n squareroot of DataFrame:\\n\",info.apply(np.sqrt))\n",
    "print(\"\\n sum of each column:\\n\",info.apply(np.sum,axis=0))\n",
    "print(\"\\n sum of each row:\\n\",info.apply(np.sum,axis=1))"
   ]
  },
  {
   "cell_type": "code",
   "execution_count": 19,
   "id": "befec05c",
   "metadata": {},
   "outputs": [
    {
     "name": "stdout",
     "output_type": "stream",
     "text": [
      "\n",
      " original DataFrame:\n",
      "    x  y  z\n",
      "0  2  4  6\n",
      "1  1  3  5\n",
      "2  5  8  7\n",
      "\n",
      " Minimum and maximum of each column:\n",
      "\n",
      "     x  y  z\n",
      "min  1  3  5\n",
      "max  5  8  7\n"
     ]
    }
   ],
   "source": [
    "info=pd.DataFrame([[2,4,6],[1,3,5],[5,8,7]],columns=['x','y','z'])\n",
    "print(\"\\n original DataFrame:\\n\",info)\n",
    "print(\"\\n Minimum and maximum of each column:\\n\")\n",
    "print(info.agg(['min','max']))"
   ]
  },
  {
   "cell_type": "code",
   "execution_count": null,
   "id": "bc161124",
   "metadata": {},
   "outputs": [],
   "source": []
  }
 ],
 "metadata": {
  "kernelspec": {
   "display_name": "Python 3 (ipykernel)",
   "language": "python",
   "name": "python3"
  },
  "language_info": {
   "codemirror_mode": {
    "name": "ipython",
    "version": 3
   },
   "file_extension": ".py",
   "mimetype": "text/x-python",
   "name": "python",
   "nbconvert_exporter": "python",
   "pygments_lexer": "ipython3",
   "version": "3.11.5"
  }
 },
 "nbformat": 4,
 "nbformat_minor": 5
}
